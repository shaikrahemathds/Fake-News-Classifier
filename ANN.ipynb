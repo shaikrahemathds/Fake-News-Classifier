{
 "cells": [
  {
   "cell_type": "code",
   "execution_count": 1,
   "metadata": {},
   "outputs": [],
   "source": [
    "\n",
    "import numpy as np \n",
    "import pandas as pd\n",
    "import re \n",
    "import nltk \n",
    "from sklearn.feature_extraction.text import CountVectorizer\n",
    "import torch\n",
    "import torch.nn as nn\n",
    "import matplotlib.pyplot as plt\n",
    "import seaborn as sns\n",
    "from sklearn.model_selection import train_test_split"
   ]
  },
  {
   "cell_type": "code",
   "execution_count": 2,
   "metadata": {},
   "outputs": [],
   "source": [
    "df = pd.read_csv(\"WELFake_Dataset_preprocessed.csv\")"
   ]
  },
  {
   "cell_type": "code",
   "execution_count": 3,
   "metadata": {},
   "outputs": [
    {
     "name": "stderr",
     "output_type": "stream",
     "text": [
      "[nltk_data] Downloading package stopwords to\n",
      "[nltk_data]     C:\\Users\\USER\\AppData\\Roaming\\nltk_data...\n",
      "[nltk_data]   Package stopwords is already up-to-date!\n",
      "[nltk_data] Downloading package wordnet to\n",
      "[nltk_data]     C:\\Users\\USER\\AppData\\Roaming\\nltk_data...\n",
      "[nltk_data]   Package wordnet is already up-to-date!\n"
     ]
    }
   ],
   "source": [
    "import re\n",
    "from nltk.corpus import stopwords\n",
    "from nltk.stem import WordNetLemmatizer\n",
    "import nltk\n",
    "\n",
    "# Ensure stopwords and lemmatizer are downloaded\n",
    "nltk.download('stopwords')\n",
    "nltk.download('wordnet')\n",
    "\n",
    "def clean_text(text):\n",
    "    # 1. Convert text to lowercase\n",
    "    text = text.lower()\n",
    "    \n",
    "    # 2. Remove HTML tags (if any)\n",
    "    text = re.sub(r'<.*?>', '', text)\n",
    "    \n",
    "    # 3. Remove special characters, numbers, and keep only alphabets and spaces\n",
    "    text = re.sub(r'[^a-zA-Z\\s]', '', text)\n",
    "    \n",
    "    # 4. Remove extra spaces\n",
    "    text = re.sub(r'\\s+', ' ', text).strip()\n",
    "    \n",
    "    # 5. Remove stop words\n",
    "    stop_words = set(stopwords.words('english'))\n",
    "    text = ' '.join([word for word in text.split() if word not in stop_words])\n",
    "    \n",
    "    # 6. Lemmatization (to get the root form of words)\n",
    "    lemmatizer = WordNetLemmatizer()\n",
    "    text = ' '.join([lemmatizer.lemmatize(word) for word in text.split()])\n",
    "    \n",
    "    return text"
   ]
  },
  {
   "cell_type": "code",
   "execution_count": 7,
   "metadata": {},
   "outputs": [],
   "source": [
    "df['text'] = df['text'].fillna(\"\")\n",
    "\n",
    "# Convert all text data to string type\n",
    "df['text'] = df['text'].astype(str)"
   ]
  },
  {
   "cell_type": "code",
   "execution_count": 8,
   "metadata": {},
   "outputs": [],
   "source": [
    "new_text = df['text'].tolist()"
   ]
  },
  {
   "cell_type": "code",
   "execution_count": 9,
   "metadata": {},
   "outputs": [
    {
     "name": "stdout",
     "output_type": "stream",
     "text": [
      "Finished\n"
     ]
    }
   ],
   "source": [
    "import joblib\n",
    "\n",
    "vectorizer_text = CountVectorizer(stop_words=\"english\",max_features=10000)\n",
    "\n",
    "text_matrix = vectorizer_text.fit_transform(new_text).toarray()\n",
    "\n",
    "joblib.dump(vectorizer_text, 'vectorizer_text.pkl')\n",
    "\n",
    "print(\"Finished\")"
   ]
  },
  {
   "cell_type": "code",
   "execution_count": 10,
   "metadata": {},
   "outputs": [
    {
     "name": "stdout",
     "output_type": "stream",
     "text": [
      "(61937, 2)\n",
      "(61937, 10000)\n"
     ]
    }
   ],
   "source": [
    "print(df.shape)\n",
    "print(text_matrix.shape)"
   ]
  },
  {
   "cell_type": "code",
   "execution_count": 11,
   "metadata": {},
   "outputs": [],
   "source": [
    "# Creating Y\n",
    "y = df.label\n",
    "# Creating X\n",
    "x = text_matrix"
   ]
  },
  {
   "cell_type": "code",
   "execution_count": 12,
   "metadata": {},
   "outputs": [
    {
     "name": "stdout",
     "output_type": "stream",
     "text": [
      "(61937, 10000)\n",
      "(61937,)\n"
     ]
    }
   ],
   "source": [
    "print(x.shape)\n",
    "print(y.shape)"
   ]
  },
  {
   "cell_type": "code",
   "execution_count": 13,
   "metadata": {},
   "outputs": [
    {
     "name": "stdout",
     "output_type": "stream",
     "text": [
      "(49549, 10000)\n",
      "(12388, 10000)\n",
      "(49549,)\n",
      "(12388,)\n"
     ]
    }
   ],
   "source": [
    "from sklearn.model_selection import train_test_split\n",
    "\n",
    "# Train Test Split\n",
    "X_train,X_test,Y_train,Y_test = train_test_split(x,np.array(y),test_size=0.2,random_state=42)\n",
    "print(X_train.shape)\n",
    "print(X_test.shape)\n",
    "print(Y_train.shape)\n",
    "print(Y_test.shape)"
   ]
  },
  {
   "cell_type": "markdown",
   "metadata": {},
   "source": [
    "BUILDING MODEL USING PYTORCH"
   ]
  },
  {
   "cell_type": "code",
   "execution_count": 14,
   "metadata": {},
   "outputs": [],
   "source": [
    "class ANN(nn.Module):\n",
    "    \n",
    "    def __init__(self):\n",
    "        \n",
    "        super(ANN,self).__init__() \n",
    "        \n",
    "        self.linear1 = nn.Linear(10000,5000) \n",
    "        self.relu1 = nn.ReLU() \n",
    "        \n",
    "        self.linear2 = nn.Linear(105000,00) \n",
    "        self.relu2 = nn.ReLU()\n",
    "        \n",
    "        self.linear3 = nn.Linear(1000,200) \n",
    "        self.relu3 = nn.ReLU()\n",
    "        \n",
    "        self.linear4 = nn.Linear(200,20) \n",
    "        self.relu4 = nn.ReLU()\n",
    "        \n",
    "        self.linear5 = nn.Linear(20,2)\n",
    "        \n",
    "    \n",
    "    def forward(self,x):\n",
    "        \n",
    "        out = self.linear1(x) # Input Layer \n",
    "        out = self.relu1(out)\n",
    "        \n",
    "        out = self.linear2(out) # Hidden Layer 1 \n",
    "        out = self.relu2(out)\n",
    "        \n",
    "        out = self.linear3(out) # Hidden Layer 2 \n",
    "        out = self.relu3(out)\n",
    "        \n",
    "        out = self.linear4(out) # Hidden Layer 3 \n",
    "        out = self.relu4(out)\n",
    "\n",
    "        \n",
    "        out = self.linear5(out) # Output Layer\n",
    "        \n",
    "        return out\n",
    "    \n",
    "\n",
    "model = ANN()\n",
    "optimizer = torch.optim.Adam(model.parameters(),lr=0.001)\n",
    "error = nn.CrossEntropyLoss()"
   ]
  },
  {
   "cell_type": "markdown",
   "metadata": {},
   "source": [
    "FITTING  MODEL USING PYTORCH"
   ]
  },
  {
   "cell_type": "code",
   "execution_count": 15,
   "metadata": {},
   "outputs": [
    {
     "name": "stdout",
     "output_type": "stream",
     "text": [
      "Loss after iteration 0 is 0.6896290183067322\n",
      "Loss after iteration 1 is 0.6616836190223694\n",
      "Loss after iteration 2 is 0.6044666767120361\n",
      "Loss after iteration 3 is 0.5409310460090637\n",
      "Loss after iteration 4 is 0.4748842120170593\n",
      "Loss after iteration 5 is 0.43194836378097534\n",
      "Loss after iteration 6 is 0.3698697090148926\n",
      "Loss after iteration 7 is 0.3342245817184448\n",
      "Loss after iteration 8 is 0.3008956015110016\n",
      "Loss after iteration 9 is 0.26426324248313904\n"
     ]
    }
   ],
   "source": [
    "# Converting numpy arrays into pytorch tensors\n",
    "X_train = torch.Tensor(X_train)\n",
    "\n",
    "# You must convert it into LongTensor. I did it once\n",
    "Y_train = torch.Tensor(Y_train).type(torch.LongTensor)\n",
    "\n",
    "X_test = torch.Tensor(X_test)\n",
    "Y_test = torch.Tensor(Y_test)\n",
    "\n",
    "EPOCHS = 10\n",
    "\n",
    "for epoch in range(EPOCHS):\n",
    "    \n",
    "    # Clearing gradients\n",
    "    optimizer.zero_grad()\n",
    "    \n",
    "    # Forward Propagation\n",
    "    outs = model(X_train)\n",
    "    \n",
    "    # Computing Loss\n",
    "    loss = error(outs,Y_train)\n",
    "    \n",
    "    # Backward propagation\n",
    "    loss.backward()\n",
    "    \n",
    "    # Updating parameters\n",
    "    optimizer.step()\n",
    "    \n",
    "    # Printing loss\n",
    "    print(f\"Loss after iteration {epoch} is {loss}\")\n"
   ]
  },
  {
   "cell_type": "markdown",
   "metadata": {},
   "source": [
    "EVALUATING RESULTS"
   ]
  },
  {
   "cell_type": "code",
   "execution_count": 17,
   "metadata": {},
   "outputs": [
    {
     "name": "stdout",
     "output_type": "stream",
     "text": [
      "Model Accuracy: 0.9152405553761704\n",
      "\n",
      "Confusion Matrix:\n",
      " [[6463  350]\n",
      " [ 700 4875]]\n",
      "Precision: 0.9330143540669856\n",
      "Recall: 0.874439461883408\n",
      "F1 Score: 0.9027777777777778\n",
      "\n",
      "Classification Report:\n",
      "               precision    recall  f1-score   support\n",
      "\n",
      "        Fake       0.90      0.95      0.92      6813\n",
      "        Real       0.93      0.87      0.90      5575\n",
      "\n",
      "    accuracy                           0.92     12388\n",
      "   macro avg       0.92      0.91      0.91     12388\n",
      "weighted avg       0.92      0.92      0.91     12388\n",
      "\n"
     ]
    }
   ],
   "source": [
    "from sklearn.metrics import (\n",
    "    accuracy_score, \n",
    "    confusion_matrix, \n",
    "    classification_report, \n",
    "    precision_score, \n",
    "    recall_score, \n",
    "    f1_score\n",
    ")\n",
    "\n",
    "# Prediction\n",
    "y_head = model(X_test)  # Model predictions\n",
    "y_pred = torch.max(y_head, 1)[1]  # Convert logits to predicted labels\n",
    "\n",
    "# Convert tensors to NumPy arrays\n",
    "Y_test_np = Y_test.cpu().numpy()  # Convert Y_test to a NumPy array\n",
    "y_pred_np = y_pred.cpu().numpy()  # Convert y_pred to a NumPy array\n",
    "\n",
    "# Metrics\n",
    "accuracy = accuracy_score(Y_test_np, y_pred_np)\n",
    "print(\"Model Accuracy:\", accuracy)\n",
    "\n",
    "conf_matrix = confusion_matrix(Y_test_np, y_pred_np)\n",
    "print(\"\\nConfusion Matrix:\\n\", conf_matrix)\n",
    "\n",
    "precision = precision_score(Y_test_np, y_pred_np)\n",
    "print(\"Precision:\", precision)\n",
    "\n",
    "recall = recall_score(Y_test_np, y_pred_np)\n",
    "print(\"Recall:\", recall)\n",
    "\n",
    "f1 = f1_score(Y_test_np, y_pred_np)\n",
    "print(\"F1 Score:\", f1)\n",
    "\n",
    "class_report = classification_report(Y_test_np, y_pred_np, target_names=[\"Fake\", \"Real\"])\n",
    "print(\"\\nClassification Report:\\n\", class_report)\n"
   ]
  },
  {
   "cell_type": "code",
   "execution_count": 18,
   "metadata": {},
   "outputs": [
    {
     "data": {
      "image/png": "[encoded data removed]",
      "text/plain": [
       "<Figure size 600x600 with 2 Axes>"
      ]
     },
     "metadata": {},
     "output_type": "display_data"
    }
   ],
   "source": [
    "confusion_matrix = confusion_matrix(y_pred=y_pred,y_true=Y_test)\n",
    "\n",
    "fig,ax = plt.subplots(figsize=(6,6))\n",
    "sns.heatmap(confusion_matrix,annot=True,fmt=\"0.1f\",linewidths=1.5)\n",
    "plt.show()"
   ]
  },
  {
   "cell_type": "code",
   "execution_count": 29,
   "metadata": {},
   "outputs": [],
   "source": [
    "# Save the trained model\n",
    "torch.save(model.state_dict(), \"ann_model.pth\")"
   ]
  },
  {
   "cell_type": "code",
   "execution_count": 19,
   "metadata": {},
   "outputs": [
    {
     "name": "stderr",
     "output_type": "stream",
     "text": [
      "C:\\Users\\USER\\AppData\\Local\\Temp\\ipykernel_6912\\1994646975.py:3: FutureWarning: You are using `torch.load` with `weights_only=False` (the current default value), which uses the default pickle module implicitly. It is possible to construct malicious pickle data which will execute arbitrary code during unpickling (See https://github.com/pytorch/pytorch/blob/main/SECURITY.md#untrusted-models for more details). In a future release, the default value for `weights_only` will be flipped to `True`. This limits the functions that could be executed during unpickling. Arbitrary objects will no longer be allowed to be loaded via this mode unless they are explicitly allowlisted by the user via `torch.serialization.add_safe_globals`. We recommend you start setting `weights_only=True` for any use case where you don't have full control of the loaded file. Please open an issue on GitHub for any issues related to this experimental feature.\n",
      "  model.load_state_dict(torch.load(\"ann_model.pth\"))\n"
     ]
    },
    {
     "data": {
      "text/plain": [
       "ANN(\n",
       "  (linear1): Linear(in_features=10000, out_features=5000, bias=True)\n",
       "  (relu1): ReLU()\n",
       "  (linear2): Linear(in_features=5000, out_features=1000, bias=True)\n",
       "  (relu2): ReLU()\n",
       "  (linear3): Linear(in_features=1000, out_features=200, bias=True)\n",
       "  (relu3): ReLU()\n",
       "  (linear4): Linear(in_features=200, out_features=20, bias=True)\n",
       "  (relu4): ReLU()\n",
       "  (linear5): Linear(in_features=20, out_features=2, bias=True)\n",
       ")"
      ]
     },
     "execution_count": 19,
     "metadata": {},
     "output_type": "execute_result"
    }
   ],
   "source": [
    "# Load the trained model\n",
    "model = ANN()\n",
    "model.load_state_dict(torch.load(\"ann_model.pth\"))\n",
    "model.eval()  # Set the model to evaluation mode"
   ]
  },
  {
   "cell_type": "code",
   "execution_count": 22,
   "metadata": {},
   "outputs": [
    {
     "name": "stderr",
     "output_type": "stream",
     "text": [
      "C:\\Users\\USER\\AppData\\Local\\Temp\\ipykernel_6912\\1288091257.py:28: FutureWarning: You are using `torch.load` with `weights_only=False` (the current default value), which uses the default pickle module implicitly. It is possible to construct malicious pickle data which will execute arbitrary code during unpickling (See https://github.com/pytorch/pytorch/blob/main/SECURITY.md#untrusted-models for more details). In a future release, the default value for `weights_only` will be flipped to `True`. This limits the functions that could be executed during unpickling. Arbitrary objects will no longer be allowed to be loaded via this mode unless they are explicitly allowlisted by the user via `torch.serialization.add_safe_globals`. We recommend you start setting `weights_only=True` for any use case where you don't have full control of the loaded file. Please open an issue on GitHub for any issues related to this experimental feature.\n",
      "  model.load_state_dict(torch.load(\"ann_model.pth\"))\n"
     ]
    },
    {
     "name": "stdout",
     "output_type": "stream",
     "text": [
      "The news is real.\n"
     ]
    }
   ],
   "source": [
    "\n",
    "# Function to preprocess input text\n",
    "def preprocess_input(text):\n",
    "    cleaned_text = clean_text(text)\n",
    "    \n",
    "    # Convert the cleaned text into lists\n",
    "    new_text = [cleaned_text]\n",
    "    \n",
    "    # Vectorize the cleaned title and text using the same vectorizers as training\n",
    "    text_matrix = vectorizer_text.transform(new_text).toarray()\n",
    "    \n",
    "    # Concatenate the title and text vectors\n",
    "    input_vector = text_matrix\n",
    "    \n",
    "    # Convert to torch tensor\n",
    "    input_tensor = torch.Tensor(input_vector)\n",
    "    \n",
    "    return input_tensor\n",
    "\n",
    "\n",
    "# Example to take user input for title and text\n",
    "raw_text = input(\"Enter the content of the article: \")  # Take input for text\n",
    "\n",
    "# Preprocess the input\n",
    "input_tensor = preprocess_input(raw_text)\n",
    "\n",
    "# Load the trained model\n",
    "model = ANN()\n",
    "model.load_state_dict(torch.load(\"ann_model.pth\"))\n",
    "model.eval()  # Set the model to evaluation mode\n",
    "\n",
    "# Make the prediction\n",
    "with torch.no_grad():  # Disable gradient computation for inference\n",
    "    output = model(input_tensor)  # Forward pass through the model\n",
    "    \n",
    "# Get the predicted class (0 or 1)\n",
    "predicted_class = torch.max(output, 1)[1].item()\n",
    "\n",
    "# Interpret the prediction\n",
    "if predicted_class == 1:\n",
    "    print(\"The news is real.\")\n",
    "else:\n",
    "    print(\"The news is fake.\")\n"
   ]
  },
  {
   "cell_type": "code",
   "execution_count": null,
   "metadata": {},
   "outputs": [],
   "source": []
  }
 ],
 "metadata": {
  "kernelspec": {
   "display_name": "nlp_env",
   "language": "python",
   "name": "python3"
  },
  "language_info": {
   "codemirror_mode": {
    "name": "ipython",
    "version": 3
   },
   "file_extension": ".py",
   "mimetype": "text/x-python",
   "name": "python",
   "nbconvert_exporter": "python",
   "pygments_lexer": "ipython3",
   "version": "3.12.2"
  }
 },
 "nbformat": 4,
 "nbformat_minor": 2
}
