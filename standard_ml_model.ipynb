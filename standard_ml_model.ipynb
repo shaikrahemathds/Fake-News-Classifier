{
 "cells": [
  {
   "cell_type": "code",
   "execution_count": 1,
   "metadata": {},
   "outputs": [],
   "source": [
    "import pandas as pd\n",
    "import matplotlib.pyplot as plt\n",
    "import numpy as np\n",
    "import seaborn as sns\n",
    "import string\n",
    "import re\n",
    "from sklearn.model_selection import train_test_split\n",
    "from sklearn.metrics import accuracy_score\n",
    "from sklearn.metrics import classification_report"
   ]
  },
  {
   "cell_type": "code",
   "execution_count": 2,
   "metadata": {},
   "outputs": [],
   "source": [
    "import nltk\n",
    "from nltk.corpus import stopwords\n",
    "from nltk.stem import WordNetLemmatizer\n"
   ]
  },
  {
   "cell_type": "code",
   "execution_count": 3,
   "metadata": {},
   "outputs": [],
   "source": [
    "df = pd.read_csv(\"WELFake_Dataset_preprocessed.csv\")"
   ]
  },
  {
   "cell_type": "code",
   "execution_count": 4,
   "metadata": {},
   "outputs": [
    {
     "data": {
      "text/plain": [
       "(61937, 2)"
      ]
     },
     "execution_count": 4,
     "metadata": {},
     "output_type": "execute_result"
    }
   ],
   "source": [
    "df.shape"
   ]
  },
  {
   "cell_type": "code",
   "execution_count": 5,
   "metadata": {},
   "outputs": [],
   "source": [
    "x = df['text']\n",
    "y = df['label']"
   ]
  },
  {
   "cell_type": "code",
   "execution_count": 6,
   "metadata": {},
   "outputs": [],
   "source": [
    "x_train, x_test, y_train, y_test = train_test_split(x,y,test_size = 0.2, random_state=42)"
   ]
  },
  {
   "cell_type": "code",
   "execution_count": 8,
   "metadata": {},
   "outputs": [],
   "source": [
    "# Fill missing values\n",
    "x_train = x_train.fillna(\"\")\n",
    "x_test = x_test.fillna(\"\")\n",
    "\n",
    "# Ensure all data is string type\n",
    "x_train = x_train.astype(str)\n",
    "x_test = x_test.astype(str)"
   ]
  },
  {
   "cell_type": "code",
   "execution_count": 9,
   "metadata": {},
   "outputs": [],
   "source": [
    "from sklearn.feature_extraction.text import TfidfVectorizer\n",
    "\n",
    "vectorization = TfidfVectorizer()\n",
    "xv_train = vectorization.fit_transform(x_train)\n",
    "xv_test = vectorization.transform(x_test)"
   ]
  },
  {
   "cell_type": "markdown",
   "metadata": {},
   "source": [
    "LOGISTIC REGRESSION"
   ]
  },
  {
   "cell_type": "code",
   "execution_count": 10,
   "metadata": {},
   "outputs": [
    {
     "name": "stdout",
     "output_type": "stream",
     "text": [
      "0.9492250565062964\n",
      "              precision    recall  f1-score   support\n",
      "\n",
      "           0       0.95      0.96      0.95      6813\n",
      "           1       0.95      0.94      0.94      5575\n",
      "\n",
      "    accuracy                           0.95     12388\n",
      "   macro avg       0.95      0.95      0.95     12388\n",
      "weighted avg       0.95      0.95      0.95     12388\n",
      "\n"
     ]
    }
   ],
   "source": [
    "from sklearn.linear_model import LogisticRegression\n",
    "\n",
    "LR = LogisticRegression()\n",
    "LR.fit(xv_train, y_train)\n",
    "pred_lr = LR.predict(xv_test)\n",
    "print(LR.score(xv_test, y_test))\n",
    "print (classification_report(y_test, pred_lr))\n"
   ]
  },
  {
   "cell_type": "markdown",
   "metadata": {},
   "source": [
    "DECISION TREE CLASSIFIER"
   ]
  },
  {
   "cell_type": "code",
   "execution_count": 11,
   "metadata": {},
   "outputs": [
    {
     "name": "stdout",
     "output_type": "stream",
     "text": [
      "0.9040200193735873\n",
      "              precision    recall  f1-score   support\n",
      "\n",
      "           0       0.95      0.96      0.95      6813\n",
      "           1       0.95      0.94      0.94      5575\n",
      "\n",
      "    accuracy                           0.95     12388\n",
      "   macro avg       0.95      0.95      0.95     12388\n",
      "weighted avg       0.95      0.95      0.95     12388\n",
      "\n"
     ]
    }
   ],
   "source": [
    "from sklearn.tree import DecisionTreeClassifier\n",
    "\n",
    "DT = DecisionTreeClassifier()\n",
    "DT.fit(xv_train, y_train)\n",
    "pred_dt = DT.predict(xv_test)\n",
    "print(DT.score(xv_test, y_test))\n",
    "print (classification_report(y_test, pred_lr))"
   ]
  },
  {
   "cell_type": "markdown",
   "metadata": {},
   "source": [
    "GRADIENT BOOSTING CLASSIFIER"
   ]
  },
  {
   "cell_type": "code",
   "execution_count": 12,
   "metadata": {},
   "outputs": [
    {
     "name": "stdout",
     "output_type": "stream",
     "text": [
      "0.9290442363577656\n",
      "              precision    recall  f1-score   support\n",
      "\n",
      "           0       0.95      0.92      0.93      6813\n",
      "           1       0.91      0.93      0.92      5575\n",
      "\n",
      "    accuracy                           0.93     12388\n",
      "   macro avg       0.93      0.93      0.93     12388\n",
      "weighted avg       0.93      0.93      0.93     12388\n",
      "\n"
     ]
    }
   ],
   "source": [
    "from sklearn.ensemble import GradientBoostingClassifier\n",
    "\n",
    "GB = GradientBoostingClassifier(random_state = 0)\n",
    "GB.fit(xv_train, y_train)\n",
    "pred_gb = GB.predict(xv_test)\n",
    "print(GB.score(xv_test, y_test))\n",
    "print(classification_report(y_test, pred_gb))"
   ]
  },
  {
   "cell_type": "markdown",
   "metadata": {},
   "source": [
    "RANDOM FOREST CLASSIFIER"
   ]
  },
  {
   "cell_type": "code",
   "execution_count": 13,
   "metadata": {},
   "outputs": [
    {
     "name": "stdout",
     "output_type": "stream",
     "text": [
      "0.9121730707135938\n",
      "              precision    recall  f1-score   support\n",
      "\n",
      "           0       0.90      0.95      0.92      6813\n",
      "           1       0.93      0.87      0.90      5575\n",
      "\n",
      "    accuracy                           0.91     12388\n",
      "   macro avg       0.92      0.91      0.91     12388\n",
      "weighted avg       0.91      0.91      0.91     12388\n",
      "\n"
     ]
    }
   ],
   "source": [
    "from sklearn.ensemble import RandomForestClassifier\n",
    "\n",
    "RF = RandomForestClassifier(random_state = 0)\n",
    "RF.fit(xv_train, y_train)\n",
    "pred_rf = RF.predict(xv_test)\n",
    "print(RF.score(xv_test, y_test))\n",
    "print (classification_report(y_test, pred_rf))"
   ]
  },
  {
   "cell_type": "markdown",
   "metadata": {},
   "source": [
    "TEST"
   ]
  },
  {
   "cell_type": "code",
   "execution_count": 14,
   "metadata": {},
   "outputs": [
    {
     "name": "stderr",
     "output_type": "stream",
     "text": [
      "[nltk_data] Downloading package stopwords to\n",
      "[nltk_data]     C:\\Users\\USER\\AppData\\Roaming\\nltk_data...\n",
      "[nltk_data]   Package stopwords is already up-to-date!\n",
      "[nltk_data] Downloading package wordnet to\n",
      "[nltk_data]     C:\\Users\\USER\\AppData\\Roaming\\nltk_data...\n",
      "[nltk_data]   Package wordnet is already up-to-date!\n"
     ]
    }
   ],
   "source": [
    "import re\n",
    "import nltk\n",
    "from nltk.corpus import stopwords\n",
    "from nltk.stem import WordNetLemmatizer\n",
    "\n",
    "# Ensure stopwords and lemmatizer are downloaded\n",
    "nltk.download('stopwords')\n",
    "nltk.download('wordnet')\n",
    "\n",
    "def clean_text(text):\n",
    "    # 1. Convert text to lowercase\n",
    "    text = text.lower()\n",
    "    \n",
    "    # 2. Remove HTML tags (if any)\n",
    "    text = re.sub(r'<.*?>', '', text)\n",
    "    \n",
    "    # 3. Remove special characters, numbers, and keep only alphabets and spaces\n",
    "    text = re.sub(r'[^a-zA-Z\\s]', '', text)\n",
    "    \n",
    "    # 4. Remove extra spaces\n",
    "    text = re.sub(r'\\s+', ' ', text).strip()\n",
    "    \n",
    "    # 5. Remove stop words\n",
    "    stop_words = set(stopwords.words('english'))\n",
    "    text = ' '.join([word for word in text.split() if word not in stop_words])\n",
    "    \n",
    "    # 6. Lemmatization (to get the root form of words)\n",
    "    lemmatizer = WordNetLemmatizer()\n",
    "    text = ' '.join([lemmatizer.lemmatize(word) for word in text.split()])\n",
    "    \n",
    "    return text"
   ]
  },
  {
   "cell_type": "code",
   "execution_count": 15,
   "metadata": {},
   "outputs": [],
   "source": [
    "def output_label(n):\n",
    "    if n == 0:\n",
    "        return \"Fake News\"\n",
    "    elif n == 1:\n",
    "        return \"Real News\"\n",
    "\n",
    "def manual_testing(news):\n",
    "        \n",
    "    # Display the input news\n",
    "    print(f\"Input News: {news}\\n\")\n",
    "    \n",
    "    # Create a DataFrame for the testing news\n",
    "    testing_news = {\"text\": [news]}\n",
    "    new_def_test = pd.DataFrame(testing_news)\n",
    "    \n",
    "    # Clean the text\n",
    "    new_def_test['text'] = new_def_test[\"text\"].apply(clean_text)\n",
    "    \n",
    "    # Transform the text using vectorization\n",
    "    new_x_test = new_def_test[\"text\"]\n",
    "    new_xv_test = vectorization.transform(new_x_test)\n",
    "    \n",
    "    # Make predictions using the models\n",
    "    pred_LR = LR.predict(new_xv_test)\n",
    "    pred_DT = DT.predict(new_xv_test)\n",
    "    pred_GB = GB.predict(new_xv_test)\n",
    "    pred_RF = RF.predict(new_xv_test)\n",
    "    \n",
    "    # Print the predictions\n",
    "    print(\"\\n\\nLR Prediction: {} \\nDT Prediction: {} \\nGBC Prediction: {} \\nRFC Prediction: {}\".format(\n",
    "        output_label(pred_LR[0]),\n",
    "        output_label(pred_DT[0]),\n",
    "        output_label(pred_GB[0]),\n",
    "        output_label(pred_RF[0])\n",
    "    ))\n"
   ]
  },
  {
   "cell_type": "code",
   "execution_count": 16,
   "metadata": {},
   "outputs": [
    {
     "name": "stdout",
     "output_type": "stream",
     "text": [
      "Input News: RIO DE JANEIRO/SAO PAULO (Reuters) - Billionaire Marcelo Odebrecht, the highest-profile executive imprisoned in Brazil s massive graft scandal, was released from jail on Tuesday to continue his sentence for corruption under house arrest, according to a federal court. The former chief executive officer of Odebrecht SA [ODBES.UL], Latin America s largest construction firm, was arrested in 2015 during an investigation dubbed Car Wash that exposed billions of dollars in kickbacks to politicians and executives at state-run companies in exchange for inflated contracts. Odebrecht was set to travel to Sao Paulo to begin his house arrest under electronic surveillance on Tuesday, according to the federal court in Parana. A representative for the former executive said he remained committed to collaborating with authorities under a leniency deal.  Odebrecht was first sentenced to 19 years in prison in one of the many cases related to Car Wash. That was reduced to 10 years after he signed a leniency deal last December in exchange for paying a nearly $2 billion fine, admitting guilt and providing evidence to authorities. He has already served two-and-a-half years in prison. Under the deal, he must serve another two-and-a-half years under house arrest. He will then be permitted to leave his home for work for another two-and-a-half years. He will then be required to do community service for the rest of his 10-year sentence. Separately Tuesday, Brazil s antitrust watchdog Cade said it was investigating two alleged cartels involved in bidding for Sao Paulo infrastructure projects after receiving information provided by Odebrecht executives.     \n",
      "\n",
      "\n",
      "\n",
      "LR Prediction: Fake News \n",
      "DT Prediction: Fake News \n",
      "GBC Prediction: Fake News \n",
      "RFC Prediction: Fake News\n"
     ]
    }
   ],
   "source": [
    "news = str(input()) \n",
    "manual_testing(news)"
   ]
  },
  {
   "cell_type": "code",
   "execution_count": 17,
   "metadata": {},
   "outputs": [
    {
     "name": "stdout",
     "output_type": "stream",
     "text": [
      "Input News: Europe is likely not going to be a top destination for families with young daughters, and they have no one to blame but themselves for this idiocy. Political correctness will be the death of Europe as we know it. Do Americans have the fortitude to stop the bleeding here, before the invasion of foreigners on our soil is officially out of control? PREDATORY asylum seeker who  chillingly  raped a 21-year-old devout Christian woman next to a church was starting a 10 year jail sentence today.Eritrean-born Mebrehtom Abrha, 25, stalked the vulnerable virgin for 10 minutes as she walked through Liverpool city centre to her boyfriend s house at 6am last July 19.Liverpool Crown Court heard he dragged her off the pavement and into a grassy area before raping her twice in a harrowing four-minute ordeal.The terrifying attack left the devout Christian  angry at God  and fearing she had contracted HIV, an appalled judge was told.Abrha, who lived in Liverpool before fleeing to Birmingham, was arrested following a BBC Crimewatch appeal on October 12.Today he started an extended sentence of 10 years  imprisonment with a further five years on licence as his victim told the court:  I felt ashamed, dirty and unclean. Going to church has always been in an important part of my life but since the attack I was not able to go to church for many months. I was angry at God and I was angry at myself for feeling this way. The victim also admitted the attack caused her to end her relationship with her boyfriend, adding:  I have lost any desire to do anything in my life. I feel terrified in the shower. I get the feeling that someone is going to get me and I start to panic. The victim   who cannot be named for legal reasons   had been out clubbing on Saturday July 18 last year and agreed to meet her boyfriend the following morning.Prosecutor David McLachlan told the court she could not get a taxi so opted to walk the mile-and-a-half route.Despite warnings to not cut through the park from her boyfriend, she did   and was confronted by the East African man who dragged her off into a wooded area nearby.He then subjected her to a horrific attack, ripping open her dress before raping her and  chillingly  walking away.Afterwards the woman   covered in dirt and with injuries to her back and neck   ran to her boyfriend s house and he raised the alarm.Michael O Brien, defending Abhra, read out part of a letter of apology from his client, which went:  This was an un-Christian act and I did a horrible thing to this woman. I ask for forgiveness. Ahbra was granted asylum for five years in June 2014 after claiming he was forced to flee his native country after being conscripted to the Eritrean army aged 18.Ahbra, who has no previous convictions and spoke through a Tigrignan interpreter, claimed he had no memory of the attack as he was too inebriated.Ahbra held his hand to his eyes as David Aubrey QC sentenced him before he made the sign of the cross as he was led down in to custody.Judge Aubrey told him:  You watched her, you followed her, pursued her, threatened her and raped her before, somewhat chillingly, walking away calmly. I cannot ignore the tragic irony of this case that you attacked her next to a church. Afterwards Merseyside Police Det Insp Terry Davies said: There is no doubt that this had had a significant impact on his young victim, who will now have to live with this for the rest of her life. Via: Express UK\n",
      "\n",
      "\n",
      "\n",
      "LR Prediction: Real News \n",
      "DT Prediction: Real News \n",
      "GBC Prediction: Real News \n",
      "RFC Prediction: Real News\n"
     ]
    }
   ],
   "source": [
    "news = str(input()) \n",
    "manual_testing(news)"
   ]
  },
  {
   "cell_type": "code",
   "execution_count": null,
   "metadata": {},
   "outputs": [],
   "source": []
  },
  {
   "cell_type": "code",
   "execution_count": 18,
   "metadata": {},
   "outputs": [],
   "source": [
    "import pickle\n",
    "\n",
    "# Save the trained models and vectorizer\n",
    "with open('lr_model.pkl', 'wb') as f:\n",
    "    pickle.dump(LR, f)\n",
    "\n",
    "with open('dt_model.pkl', 'wb') as f:\n",
    "    pickle.dump(DT, f)\n",
    "\n",
    "with open('gb_model.pkl', 'wb') as f:\n",
    "    pickle.dump(GB, f)\n",
    "\n",
    "with open('rf_model.pkl', 'wb') as f:\n",
    "    pickle.dump(RF, f)\n",
    "\n",
    "with open('vectorizer.pkl', 'wb') as f:\n",
    "    pickle.dump(vectorization, f)\n"
   ]
  },
  {
   "cell_type": "markdown",
   "metadata": {},
   "source": [
    "USING SAVED MODELS TO RUN "
   ]
  },
  {
   "cell_type": "code",
   "execution_count": 19,
   "metadata": {},
   "outputs": [
    {
     "name": "stdout",
     "output_type": "stream",
     "text": [
      "Input News: Europe is likely not going to be a top destination for families with young daughters, and they have no one to blame but themselves for this idiocy. Political correctness will be the death of Europe as we know it. Do Americans have the fortitude to stop the bleeding here, before the invasion of foreigners on our soil is officially out of control? PREDATORY asylum seeker who  chillingly  raped a 21-year-old devout Christian woman next to a church was starting a 10 year jail sentence today.Eritrean-born Mebrehtom Abrha, 25, stalked the vulnerable virgin for 10 minutes as she walked through Liverpool city centre to her boyfriend s house at 6am last July 19.Liverpool Crown Court heard he dragged her off the pavement and into a grassy area before raping her twice in a harrowing four-minute ordeal.The terrifying attack left the devout Christian  angry at God  and fearing she had contracted HIV, an appalled judge was told.Abrha, who lived in Liverpool before fleeing to Birmingham, was arrested following a BBC Crimewatch appeal on October 12.Today he started an extended sentence of 10 years  imprisonment with a further five years on licence as his victim told the court:  I felt ashamed, dirty and unclean. Going to church has always been in an important part of my life but since the attack I was not able to go to church for many months. I was angry at God and I was angry at myself for feeling this way. The victim also admitted the attack caused her to end her relationship with her boyfriend, adding:  I have lost any desire to do anything in my life. I feel terrified in the shower. I get the feeling that someone is going to get me and I start to panic. The victim   who cannot be named for legal reasons   had been out clubbing on Saturday July 18 last year and agreed to meet her boyfriend the following morning.Prosecutor David McLachlan told the court she could not get a taxi so opted to walk the mile-and-a-half route.Despite warnings to not cut through the park from her boyfriend, she did   and was confronted by the East African man who dragged her off into a wooded area nearby.He then subjected her to a horrific attack, ripping open her dress before raping her and  chillingly  walking away.Afterwards the woman   covered in dirt and with injuries to her back and neck   ran to her boyfriend s house and he raised the alarm.Michael O Brien, defending Abhra, read out part of a letter of apology from his client, which went:  This was an un-Christian act and I did a horrible thing to this woman. I ask for forgiveness. Ahbra was granted asylum for five years in June 2014 after claiming he was forced to flee his native country after being conscripted to the Eritrean army aged 18.Ahbra, who has no previous convictions and spoke through a Tigrignan interpreter, claimed he had no memory of the attack as he was too inebriated.Ahbra held his hand to his eyes as David Aubrey QC sentenced him before he made the sign of the cross as he was led down in to custody.Judge Aubrey told him:  You watched her, you followed her, pursued her, threatened her and raped her before, somewhat chillingly, walking away calmly. I cannot ignore the tragic irony of this case that you attacked her next to a church. Afterwards Merseyside Police Det Insp Terry Davies said: There is no doubt that this had had a significant impact on his young victim, who will now have to live with this for the rest of her life. Via: Express UK\n",
      "\n",
      "\n",
      "\n",
      "LR Prediction: Real News \n",
      "DT Prediction: Real News \n",
      "GBC Prediction: Real News \n",
      "RFC Prediction:Real News\n"
     ]
    }
   ],
   "source": [
    "import pickle\n",
    "import pandas as pd\n",
    "\n",
    "# Step 1: Load the saved models and vectorizer\n",
    "with open('lr_model.pkl', 'rb') as f:\n",
    "    LR = pickle.load(f)\n",
    "\n",
    "with open('dt_model.pkl', 'rb') as f:\n",
    "    DT = pickle.load(f)\n",
    "\n",
    "with open('gb_model.pkl', 'rb') as f:\n",
    "    GB = pickle.load(f)\n",
    "\n",
    "with open('rf_model.pkl', 'rb') as f:\n",
    "    RF = pickle.load(f)\n",
    "\n",
    "with open('vectorizer.pkl', 'rb') as f:\n",
    "    vectorization = pickle.load(f)\n",
    "\n",
    "# Step 2: Define the manual_testing function to test new input\n",
    "def manual_testing(news):\n",
    "    # Display the input news\n",
    "    print(f\"Input News: {news}\\n\")\n",
    "    \n",
    "    # Prepare the test data as a DataFrame\n",
    "    testing_news = {\"text\": [news]}\n",
    "    new_def_test = pd.DataFrame(testing_news)\n",
    "    \n",
    "    # Clean the text (apply your cleaning function here)\n",
    "    new_def_test['text'] = new_def_test[\"text\"].apply(clean_text)  # Assuming you have a clean_text function\n",
    "    \n",
    "    # Vectorize the input text using the loaded vectorizer\n",
    "    new_x_test = new_def_test[\"text\"]\n",
    "    new_xv_test = vectorization.transform(new_x_test)\n",
    "    \n",
    "    # Step 3: Make predictions using the loaded models\n",
    "    pred_LR = LR.predict(new_xv_test)\n",
    "    pred_DT = DT.predict(new_xv_test)\n",
    "    pred_GB = GB.predict(new_xv_test)\n",
    "    pred_RF = RF.predict(new_xv_test)\n",
    "    \n",
    "    # Step 4: Output the predictions\n",
    "    print(\"\\n\\nLR Prediction: {} \\nDT Prediction: {} \\nGBC Prediction: {} \\nRFC Prediction:{}\".format(\n",
    "        output_label(pred_LR[0]),\n",
    "        output_label(pred_DT[0]),\n",
    "        output_label(pred_GB[0]),\n",
    "        output_label(pred_RF[0])\n",
    "    ))\n",
    "\n",
    "# Step 5: Input a news article and call the testing function\n",
    "news = str(input(\"Enter news text: \"))\n",
    "manual_testing(news)\n"
   ]
  },
  {
   "cell_type": "code",
   "execution_count": null,
   "metadata": {},
   "outputs": [],
   "source": []
  }
 ],
 "metadata": {
  "kernelspec": {
   "display_name": "nlp_env",
   "language": "python",
   "name": "python3"
  },
  "language_info": {
   "codemirror_mode": {
    "name": "ipython",
    "version": 3
   },
   "file_extension": ".py",
   "mimetype": "text/x-python",
   "name": "python",
   "nbconvert_exporter": "python",
   "pygments_lexer": "ipython3",
   "version": "3.12.2"
  }
 },
 "nbformat": 4,
 "nbformat_minor": 2
}
